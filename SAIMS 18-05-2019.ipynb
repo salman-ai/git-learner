{
 "cells": [
  {
   "cell_type": "markdown",
   "metadata": {},
   "source": [
    "# Maths coding"
   ]
  },
  {
   "cell_type": "code",
   "execution_count": null,
   "metadata": {},
   "outputs": [],
   "source": [
    "9-3"
   ]
  },
  {
   "cell_type": "code",
   "execution_count": null,
   "metadata": {},
   "outputs": [],
   "source": [
    "2+4"
   ]
  },
  {
   "cell_type": "code",
   "execution_count": null,
   "metadata": {},
   "outputs": [],
   "source": [
    "2*6"
   ]
  },
  {
   "cell_type": "code",
   "execution_count": null,
   "metadata": {},
   "outputs": [],
   "source": [
    "45/9  # system by default float show decimal"
   ]
  },
  {
   "cell_type": "code",
   "execution_count": null,
   "metadata": {},
   "outputs": [],
   "source": [
    "45//9 # without decimal... no round off"
   ]
  },
  {
   "cell_type": "markdown",
   "metadata": {},
   "source": [
    "# if statments"
   ]
  },
  {
   "cell_type": "code",
   "execution_count": null,
   "metadata": {},
   "outputs": [],
   "source": [
    "# checking condition\n",
    "a=2\n",
    "b=3\n",
    "a==b"
   ]
  },
  {
   "cell_type": "code",
   "execution_count": null,
   "metadata": {},
   "outputs": [],
   "source": [
    "a>b"
   ]
  },
  {
   "cell_type": "code",
   "execution_count": null,
   "metadata": {},
   "outputs": [],
   "source": [
    "a>=b"
   ]
  },
  {
   "cell_type": "code",
   "execution_count": null,
   "metadata": {},
   "outputs": [],
   "source": [
    "a<=b"
   ]
  },
  {
   "cell_type": "code",
   "execution_count": null,
   "metadata": {},
   "outputs": [],
   "source": [
    "a!=b # ! is not equal to"
   ]
  },
  {
   "cell_type": "code",
   "execution_count": null,
   "metadata": {},
   "outputs": [],
   "source": [
    "a=2\n",
    "b=1\n",
    "if a>b:  #indentation #jab tak same indent chalega system sari coding/condition body me lega\n",
    "    print(f\"{a} is greater than{b}\")\n",
    "    print(f\"{a}is greater than {b}\")\n",
    "    print(f\"{a}is greater than {b}\")"
   ]
  },
  {
   "cell_type": "code",
   "execution_count": null,
   "metadata": {},
   "outputs": [],
   "source": [
    "a=input('enter a number')\n",
    "b=input('enter another number')\n",
    "if a>b:  #indentation #jab tak same indent chalega system sari coding/condition body me lega\n",
    "    print(f\"{a} is greater than{b}\")\n",
    "    print(f\"{a}is greater than {b}\")\n",
    "    print(f\"{a}is greater than {b}\")\n",
    "else:\n",
    "    print('else block is executing')\n",
    "    print(f\"{b} is greater than{a} )"
   ]
  },
  {
   "cell_type": "markdown",
   "metadata": {},
   "source": [
    "# MULTIPLE ifs"
   ]
  },
  {
   "cell_type": "code",
   "execution_count": null,
   "metadata": {},
   "outputs": [],
   "source": [
    "age=int(input('Enter Age'))\n",
    "if age>=18:\n",
    "    print(\"your age is valid\")\n",
    "    ticket=input(\"Enter Ticket Status\")\n",
    "    if ticket== 'yes':\n",
    "        print(\"your ticket is valid\")\n",
    "        print(\"You are allowed\")\n",
    "    else:\n",
    "        print(\"please buy valid ticket\")\n",
    "else:\n",
    "    print(\"you are not allowed\")\n",
    "    "
   ]
  },
  {
   "cell_type": "code",
   "execution_count": null,
   "metadata": {},
   "outputs": [],
   "source": [
    "cnic=(input(\"original cnic\"))\n",
    "if cnic== \"yes\":\n",
    "    print(\"you have original cnic\")\n",
    "    voterlist=input(\"is your name in voter list?\")\n",
    "    if voterlist== \"yes\":\n",
    "        print(\"you are allowed to vote\")\n",
    "    else:\n",
    "        print(\"your name is not in voter list\")\n",
    "else:\n",
    "    print(\"please bring original cnic\")\n"
   ]
  },
  {
   "cell_type": "code",
   "execution_count": null,
   "metadata": {},
   "outputs": [],
   "source": [
    "age=int(input('Enter Age'))\n",
    "ticket=input(\"Enter Ticket Status\").lower()\n",
    "if age>=18 and ticket== \"yes\":\n",
    "    print(\"you are allowed\")\n",
    "else:\n",
    "    print(\"you are not allowed\")\n"
   ]
  },
  {
   "cell_type": "code",
   "execution_count": null,
   "metadata": {},
   "outputs": [],
   "source": [
    "# nested if is equal to logical \"and\"operator and multiple if is equal to logical \"or\" operator"
   ]
  },
  {
   "cell_type": "code",
   "execution_count": 4,
   "metadata": {},
   "outputs": [
    {
     "name": "stdout",
     "output_type": "stream",
     "text": [
      "Enter First Number: 10\n",
      "Enter Second Number: 20\n",
      "10 is less than 20\n"
     ]
    }
   ],
   "source": [
    "a = int(input(\"Enter First Number: \"))\n",
    "b = int(input(\"Enter Second Number: \"))\n",
    "\n",
    "if a == b:\n",
    "    print(f\"{a} is equal to {b}\")\n",
    "elif a > b:\n",
    "    print(f\"{a} is greater than {b}\")\n",
    "elif a < b:\n",
    "    print(f\"{a} is less than {b}\")"
   ]
  },
  {
   "cell_type": "code",
   "execution_count": 25,
   "metadata": {},
   "outputs": [
    {
     "name": "stdout",
     "output_type": "stream",
     "text": [
      "going on bike or police ne rok lia\n",
      "License hai? han\n",
      "pese hain jaib me? no\n",
      "chal ja time zaya mat kar\n"
     ]
    }
   ],
   "source": [
    "print(\"going on bike or police ne rok lia\")\n",
    "license=input(\"License hai? \").lower()\n",
    "mithai=input(\"pese hain jaib me? \").lower()\n",
    "if license =='no' or mithai == 'han':\n",
    "    print(\"side per laga\")\n",
    "else:\n",
    "    print(\"chal ja time zaya mat kar\")"
   ]
  },
  {
   "cell_type": "code",
   "execution_count": null,
   "metadata": {},
   "outputs": [],
   "source": []
  }
 ],
 "metadata": {
  "kernelspec": {
   "display_name": "Python 3",
   "language": "python",
   "name": "python3"
  },
  "language_info": {
   "codemirror_mode": {
    "name": "ipython",
    "version": 3
   },
   "file_extension": ".py",
   "mimetype": "text/x-python",
   "name": "python",
   "nbconvert_exporter": "python",
   "pygments_lexer": "ipython3",
   "version": "3.7.3"
  }
 },
 "nbformat": 4,
 "nbformat_minor": 2
}
